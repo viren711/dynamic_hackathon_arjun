{
 "cells": [
  {
   "cell_type": "code",
   "execution_count": null,
   "metadata": {},
   "outputs": [],
   "source": []
  },
  {
   "cell_type": "code",
   "execution_count": null,
   "metadata": {},
   "outputs": [],
   "source": []
  },
  {
   "cell_type": "code",
   "execution_count": null,
   "metadata": {},
   "outputs": [],
   "source": []
  },
  {
   "cell_type": "code",
   "execution_count": 1,
   "metadata": {},
   "outputs": [
    {
     "name": "stdout",
     "output_type": "stream",
     "text": [
      "Datasets merged successfully!\n"
     ]
    },
    {
     "name": "stderr",
     "output_type": "stream",
     "text": [
      "<>:8: SyntaxWarning: invalid escape sequence '\\d'\n",
      "<>:8: SyntaxWarning: invalid escape sequence '\\d'\n",
      "C:\\Users\\Viren\\AppData\\Local\\Temp\\ipykernel_1180\\1267292914.py:8: SyntaxWarning: invalid escape sequence '\\d'\n",
      "  dest_root = \"Dataset\\data\"\n"
     ]
    }
   ],
   "source": [
    "import os\n",
    "import shutil\n",
    "\n",
    "# Define source dataset paths\n",
    "datasets = [\"person\", \"jib\"]\n",
    "\n",
    "# Define the destination path\n",
    "dest_root = \"Dataset\\data\"\n",
    "os.makedirs(os.path.join(dest_root, \"train/images\"), exist_ok=True)\n",
    "os.makedirs(os.path.join(dest_root, \"train/labels\"), exist_ok=True)\n",
    "os.makedirs(os.path.join(dest_root, \"valid/images\"), exist_ok=True)\n",
    "os.makedirs(os.path.join(dest_root, \"valid/labels\"), exist_ok=True)\n",
    "\n",
    "# Function to copy files\n",
    "def merge_datasets(split):\n",
    "    for dataset in datasets:\n",
    "        img_src = os.path.join(dataset, split, \"images\")\n",
    "        lbl_src = os.path.join(dataset, split, \"labels\")\n",
    "        \n",
    "        img_dest = os.path.join(dest_root, split, \"images\")\n",
    "        lbl_dest = os.path.join(dest_root, split, \"labels\")\n",
    "        \n",
    "        if os.path.exists(img_src):\n",
    "            for file in os.listdir(img_src):\n",
    "                shutil.copy(os.path.join(img_src, file), os.path.join(img_dest, file))\n",
    "        \n",
    "        if os.path.exists(lbl_src):\n",
    "            for file in os.listdir(lbl_src):\n",
    "                shutil.copy(os.path.join(lbl_src, file), os.path.join(lbl_dest, file))\n",
    "\n",
    "# Merge both train and valid sets\n",
    "merge_datasets(\"train\")\n",
    "merge_datasets(\"valid\")\n",
    "merge_datasets(\"test\")\n",
    "\n",
    "print(\"Datasets merged successfully!\")\n"
   ]
  },
  {
   "cell_type": "code",
   "execution_count": null,
   "metadata": {},
   "outputs": [],
   "source": []
  },
  {
   "cell_type": "code",
   "execution_count": 2,
   "metadata": {},
   "outputs": [
    {
     "name": "stdout",
     "output_type": "stream",
     "text": [
      "Datasets merged successfully!\n"
     ]
    },
    {
     "name": "stderr",
     "output_type": "stream",
     "text": [
      "<>:6: SyntaxWarning: invalid escape sequence '\\d'\n",
      "<>:6: SyntaxWarning: invalid escape sequence '\\d'\n",
      "C:\\Users\\Viren\\AppData\\Local\\Temp\\ipykernel_1180\\3887284467.py:6: SyntaxWarning: invalid escape sequence '\\d'\n",
      "  dest_root = \"Dataset\\data\"\n"
     ]
    }
   ],
   "source": [
    "import os\n",
    "import shutil\n",
    "\n",
    "# Define dataset paths\n",
    "datasets = [\"person\", \"jib\"]  \n",
    "dest_root = \"Dataset\\data\"\n",
    "\n",
    "# Define classes and ensure class mapping\n",
    "class_mapping = {\n",
    "    \"person\": 0,  # Assign class ID 0 to all 'person' labels\n",
    "    \"ujib\": 1     # Assign class ID 1 to all 'ujib' labels\n",
    "}\n",
    "\n",
    "# Create destination folders\n",
    "for split in [\"train\", \"valid\", \"test\"]:\n",
    "    os.makedirs(os.path.join(dest_root, split, \"images\"), exist_ok=True)\n",
    "    os.makedirs(os.path.join(dest_root, split, \"labels\"), exist_ok=True)\n",
    "\n",
    "# Function to copy and modify label files\n",
    "def merge_datasets(dataset_name, split):\n",
    "    img_src = os.path.join(dataset_name, split, \"images\")\n",
    "    lbl_src = os.path.join(dataset_name, split, \"labels\")\n",
    "\n",
    "    img_dest = os.path.join(dest_root, split, \"images\")\n",
    "    lbl_dest = os.path.join(dest_root, split, \"labels\")\n",
    "\n",
    "    if not os.path.exists(img_src):\n",
    "        return\n",
    "    \n",
    "    for file in os.listdir(img_src):\n",
    "        shutil.copy(os.path.join(img_src, file), os.path.join(img_dest, file))\n",
    "    \n",
    "    for file in os.listdir(lbl_src):\n",
    "        old_label_path = os.path.join(lbl_src, file)\n",
    "        new_label_path = os.path.join(lbl_dest, file)\n",
    "\n",
    "        # Modify label files to ensure correct class ID mapping\n",
    "        with open(old_label_path, \"r\") as f_in, open(new_label_path, \"w\") as f_out:\n",
    "            for line in f_in:\n",
    "                parts = line.strip().split()\n",
    "                if parts:\n",
    "                    parts[0] = str(class_mapping[dataset_name])  # Change class ID\n",
    "                    f_out.write(\" \".join(parts) + \"\\n\")\n",
    "\n",
    "# Merge train and valid datasets\n",
    "for dataset in datasets:\n",
    "    for split in [\"train\", \"valid\", 'test']:\n",
    "        merge_datasets(dataset, split)\n",
    "\n",
    "print(\"Datasets merged successfully!\")"
   ]
  },
  {
   "cell_type": "code",
   "execution_count": null,
   "metadata": {},
   "outputs": [],
   "source": []
  },
  {
   "cell_type": "code",
   "execution_count": null,
   "metadata": {},
   "outputs": [],
   "source": []
  },
  {
   "cell_type": "code",
   "execution_count": null,
   "metadata": {},
   "outputs": [],
   "source": []
  }
 ],
 "metadata": {
  "kernelspec": {
   "display_name": "base",
   "language": "python",
   "name": "python3"
  },
  "language_info": {
   "codemirror_mode": {
    "name": "ipython",
    "version": 3
   },
   "file_extension": ".py",
   "mimetype": "text/x-python",
   "name": "python",
   "nbconvert_exporter": "python",
   "pygments_lexer": "ipython3",
   "version": "3.12.4"
  }
 },
 "nbformat": 4,
 "nbformat_minor": 2
}
